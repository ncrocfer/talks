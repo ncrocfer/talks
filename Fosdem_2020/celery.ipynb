{
 "cells": [
  {
   "cell_type": "markdown",
   "metadata": {},
   "source": [
    "# Celery\n",
    "\n",
    "- installation : `pip install celery redis`\n",
    "- the worker can be started using `celery worker -A tasks --loglevel=INFO`\n",
    "- the `tasks.py` file is the following :\n",
    "\n",
    "```python\n",
    "import random\n",
    "from celery import Celery\n",
    "\n",
    "app = Celery(\n",
    "    \"tasks\",\n",
    "    broker=\"redis://127.0.0.1:6379/0\",\n",
    "    backend=\"redis://127.0.0.1:6379/1\"\n",
    ")\n",
    "\n",
    "@app.task\n",
    "def get_rand():\n",
    "    return random.randint(1, 10)\n",
    "\n",
    "@app.task\n",
    "def get_sum(randoms):\n",
    "    return sum(randoms)\n",
    "```"
   ]
  },
  {
   "cell_type": "markdown",
   "metadata": {},
   "source": [
    "## Task\n",
    "\n",
    "### Sync"
   ]
  },
  {
   "cell_type": "code",
   "execution_count": null,
   "metadata": {},
   "outputs": [],
   "source": [
    "from tasks import get_rand\n",
    "get_rand()"
   ]
  },
  {
   "cell_type": "markdown",
   "metadata": {},
   "source": [
    "### Async"
   ]
  },
  {
   "cell_type": "code",
   "execution_count": null,
   "metadata": {},
   "outputs": [],
   "source": [
    "result = get_rand.delay()\n",
    "result"
   ]
  },
  {
   "cell_type": "code",
   "execution_count": null,
   "metadata": {},
   "outputs": [],
   "source": [
    "result.get()"
   ]
  },
  {
   "cell_type": "markdown",
   "metadata": {},
   "source": [
    "## Workflow\n",
    "\n",
    "We will not call `.delay()` directly but instead we'll create **signatures** using `.si()`.\n",
    "\n",
    "### chain()\n",
    "\n",
    "```\n",
    "+----------+      +----------+\n",
    "| get_rand +------> get_rand |\n",
    "+----------+      +----------+\n",
    "```"
   ]
  },
  {
   "cell_type": "code",
   "execution_count": null,
   "metadata": {},
   "outputs": [],
   "source": [
    "from celery import chain\n",
    "\n",
    "canvas = chain(\n",
    "    get_rand.si(),\n",
    "    get_rand.si()\n",
    ")\n",
    "canvas"
   ]
  },
  {
   "cell_type": "code",
   "execution_count": null,
   "metadata": {},
   "outputs": [],
   "source": [
    "result = canvas.delay()\n",
    "result"
   ]
  },
  {
   "cell_type": "code",
   "execution_count": null,
   "metadata": {},
   "outputs": [],
   "source": [
    "result.get()"
   ]
  },
  {
   "cell_type": "markdown",
   "metadata": {},
   "source": [
    "###  group()\n",
    "\n",
    "```\n",
    "+----------+\n",
    "| get_rand +------+\n",
    "+----------+      |     +---------+\n",
    "                  +-----> get_sum |\n",
    "+----------+      |     +---------+\n",
    "| get_rand +------+\n",
    "+----------+\n",
    "```"
   ]
  },
  {
   "cell_type": "code",
   "execution_count": null,
   "metadata": {},
   "outputs": [],
   "source": [
    "from celery import chain, group\n",
    "from tasks import get_rand, get_sum\n",
    "\n",
    "canvas = chain(\n",
    "    group(\n",
    "        get_rand.si(),\n",
    "        get_rand.si(),\n",
    "    ),\n",
    "    get_sum.s()\n",
    ")\n",
    "canvas"
   ]
  },
  {
   "cell_type": "code",
   "execution_count": null,
   "metadata": {},
   "outputs": [],
   "source": [
    "result = canvas.delay()\n",
    "result"
   ]
  },
  {
   "cell_type": "code",
   "execution_count": null,
   "metadata": {},
   "outputs": [],
   "source": [
    "result.get()"
   ]
  }
 ],
 "metadata": {
  "kernelspec": {
   "display_name": "Python 3",
   "language": "python",
   "name": "python3"
  },
  "language_info": {
   "codemirror_mode": {
    "name": "ipython",
    "version": 3
   },
   "file_extension": ".py",
   "mimetype": "text/x-python",
   "name": "python",
   "nbconvert_exporter": "python",
   "pygments_lexer": "ipython3",
   "version": "3.6.1"
  }
 },
 "nbformat": 4,
 "nbformat_minor": 4
}
